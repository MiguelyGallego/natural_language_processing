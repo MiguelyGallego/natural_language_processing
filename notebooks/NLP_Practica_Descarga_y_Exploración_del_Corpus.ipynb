{
  "nbformat": 4,
  "nbformat_minor": 0,
  "metadata": {
    "colab": {
      "provenance": []
    },
    "kernelspec": {
      "name": "python3",
      "display_name": "Python 3"
    },
    "language_info": {
      "name": "python"
    }
  },
  "cells": [
    {
      "cell_type": "code",
      "execution_count": 1,
      "metadata": {
        "colab": {
          "base_uri": "https://localhost:8080/"
        },
        "id": "-TSnQpToDJpT",
        "outputId": "6e98059a-814e-46bd-ebc1-b2d3837bb5f3"
      },
      "outputs": [
        {
          "output_type": "stream",
          "name": "stdout",
          "text": [
            "--2023-08-25 17:01:08--  https://jmcauley.ucsd.edu/data/amazon_v2/categoryFiles/Kindle_Store.json.gz\n",
            "Resolving jmcauley.ucsd.edu (jmcauley.ucsd.edu)... 137.110.160.73\n",
            "Connecting to jmcauley.ucsd.edu (jmcauley.ucsd.edu)|137.110.160.73|:443... connected.\n",
            "WARNING: cannot verify jmcauley.ucsd.edu's certificate, issued by ‘CN=InCommon RSA Server CA,OU=InCommon,O=Internet2,L=Ann Arbor,ST=MI,C=US’:\n",
            "  Unable to locally verify the issuer's authority.\n",
            "HTTP request sent, awaiting response... 200 OK\n",
            "Length: 1137315430 (1.1G) [application/x-gzip]\n",
            "Saving to: ‘Kindle_Store.json.gz’\n",
            "\n",
            "Kindle_Store.json.g 100%[===================>]   1.06G  43.5MB/s    in 25s     \n",
            "\n",
            "2023-08-25 17:01:34 (42.6 MB/s) - ‘Kindle_Store.json.gz’ saved [1137315430/1137315430]\n",
            "\n"
          ]
        }
      ],
      "source": [
        "!wget https://jmcauley.ucsd.edu/data/amazon_v2/categoryFiles/Kindle_Store.json.gz --no-check-certificate"
      ]
    },
    {
      "cell_type": "code",
      "source": [
        "import os\n",
        "import json\n",
        "import gzip\n",
        "import pandas as pd\n",
        "from itertools import islice"
      ],
      "metadata": {
        "id": "6R6m5isI54my"
      },
      "execution_count": 2,
      "outputs": []
    },
    {
      "cell_type": "code",
      "source": [
        "# Cargar el archivo JSON comprimido parcialmente\n",
        "num_samples_per_class = 10000  # Número de muestras por clase\n",
        "\n",
        "# Cargar y leer el archivo JSON parcialmente\n",
        "data = []\n",
        "with gzip.open('Kindle_Store.json.gz', 'rb') as f:\n",
        "    lines = islice(f, 200000)\n",
        "    for l in lines:\n",
        "        data.append(json.loads(l.strip()))\n",
        "\n",
        "df = pd.DataFrame.from_dict(data)\n",
        "filtered_df = df[df['overall'].isin([1, 2, 4, 5])]\n",
        "\n",
        "# Realizar muestreo aleatorio equilibrado por clase\n",
        "balanced_samples = []\n",
        "for rating in [1, 2, 4, 5]:\n",
        "    samples = filtered_df[filtered_df['overall'] == rating].sample(n=num_samples_per_class, random_state=42)\n",
        "    balanced_samples.append(samples)\n",
        "\n",
        "balanced_df = pd.concat(balanced_samples)\n",
        "\n",
        "# Filtrar por colunas de interés\n",
        "balanced_df=balanced_df[['overall','reviewText']]\n",
        "\n",
        "# Guardar el DataFrame equilibrado en un archivo CSV\n",
        "balanced_df.to_csv('balanced_sampled_data.csv', index=False)"
      ],
      "metadata": {
        "id": "QUkf7ezMB3sv"
      },
      "execution_count": 3,
      "outputs": []
    },
    {
      "cell_type": "code",
      "source": [
        "print(balanced_df.head())\n",
        "print(\"--------------------------------------------------------\")\n",
        "print(len(balanced_df))\n",
        "print(\"--------------------------------------------------------\")\n",
        "print(balanced_df.iloc[24897])"
      ],
      "metadata": {
        "colab": {
          "base_uri": "https://localhost:8080/"
        },
        "id": "IVwEWBCZEniE",
        "outputId": "02ddf763-3ba5-4283-8ebb-1e4157c07151"
      },
      "execution_count": 4,
      "outputs": [
        {
          "output_type": "stream",
          "name": "stdout",
          "text": [
            "        overall                                         reviewText\n",
            "23236       1.0  Deepak Chopra would like to introduce you to J...\n",
            "102222      1.0  this games sucks. spend your time on somthing ...\n",
            "48004       1.0  Don't waste your money. Nothing here you can't...\n",
            "107541      1.0  How I wish Amazon would make their own content...\n",
            "189974      1.0  Moderately interesting plot, but extremely poo...\n",
            "--------------------------------------------------------\n",
            "40000\n",
            "--------------------------------------------------------\n",
            "overall                                                     4.0\n",
            "reviewText    You have several different categories that ero...\n",
            "Name: 60975, dtype: object\n"
          ]
        }
      ]
    },
    {
      "cell_type": "code",
      "source": [
        "df = pd.read_csv('balanced_sampled_data.csv')\n",
        "len(df)"
      ],
      "metadata": {
        "id": "NtingJYX2bPx",
        "colab": {
          "base_uri": "https://localhost:8080/"
        },
        "outputId": "46f39523-6be1-48bb-b868-351cdef9fed6"
      },
      "execution_count": 5,
      "outputs": [
        {
          "output_type": "execute_result",
          "data": {
            "text/plain": [
              "40000"
            ]
          },
          "metadata": {},
          "execution_count": 5
        }
      ]
    }
  ]
}